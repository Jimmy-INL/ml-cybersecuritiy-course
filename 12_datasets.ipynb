{
 "cells": [
  {
   "cell_type": "markdown",
   "metadata": {},
   "source": [
    "# Section 1.2: Datasets\n",
    "\n",
    "In this section we introduce how to effectively create and read a dataset. We classified datasets in three formats:\n",
    "\n",
    "* **Raw Data:** raw data are available the same way they were collected. For example: PE executables, ELF or APK packages;\n",
    "* **Attributes:** filtered metadata extracted from the raw data with less noise and focus on the data that really matters. For example: CSV with metadata, execution logs of a sofware or data extracted from its header;\n",
    "* **Features:** features extracted from the attributes or raw data ready to be used in a classifier. For example: feature vectors extracted from the attributes collected before.\n",
    "\n",
    "With these definitions in mind, we will first introduce how to extract attributes from raw data. "
   ]
  },
  {
   "cell_type": "markdown",
   "metadata": {},
   "source": [
    "## Requirements:\n",
    "\n",
    "* **Python Version**: make sure you are using **Python 3.5 or higher**.\n",
    "* **Datasets:** the datasets located at folder \"./datasets/\" are going to be used in our entire course. They are all in .zip extension. When extracting, make sure the .csv are located in this same folder. To extract, use the following command from a terminal: \n",
    "> *unzip \\<filename\\>.zip*.\n",
    "* **Libraries:** all the python libraries used can be found in the file \"requirements.txt\". To install them, just run the following command (using pip): \n",
    "> *pip install -r requirements.txt*"
   ]
  },
  {
   "cell_type": "markdown",
   "metadata": {},
   "source": [
    "## Extracting Attributes from PE Files"
   ]
  },
  {
   "cell_type": "code",
   "execution_count": null,
   "metadata": {},
   "outputs": [],
   "source": []
  }
 ],
 "metadata": {
  "kernelspec": {
   "display_name": "Python 3",
   "language": "python",
   "name": "python3"
  },
  "language_info": {
   "codemirror_mode": {
    "name": "ipython",
    "version": 3
   },
   "file_extension": ".py",
   "mimetype": "text/x-python",
   "name": "python",
   "nbconvert_exporter": "python",
   "pygments_lexer": "ipython3",
   "version": "3.5.2"
  }
 },
 "nbformat": 4,
 "nbformat_minor": 4
}
