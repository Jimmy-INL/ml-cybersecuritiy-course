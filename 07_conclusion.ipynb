{
 "cells": [
  {
   "cell_type": "markdown",
   "metadata": {},
   "source": [
    "# Section 7: Conclusion"
   ]
  },
  {
   "cell_type": "markdown",
   "metadata": {},
   "source": [
    "Machine learning can be a powerful ally for computer security if used corretcly. However, it is still common to find solution whose results do not match the reality. Due to that, it is necessary to make sure that the proposed solution really works in real world, evaluating it in the right way, i.e., taking into account that data may not have stationary distribution and be constantly changing.\n",
    "\n",
    "In this course we presented many fundamental machine learning concepts to cybersecurity. We started with the data collection, in [section 2](01_datasets.ipynb), showing how to do it and label them correctly, the main related problems and two dataset examples. In sequence, we presented static attributes extraction techniques and recommended tools for dynamic analysis, in [section 3](03_attributes.ipynb). Then, in [section 4](04_features.ipynb), we shown two feature extraction algorithms (TF-IDF and Word2Vec) and two normalization methods (min-max and standardization). After that, the main classifiers, detectors and clustering algorithms were presented, with their respective codes and libraries, highlighting how to use a stream and drift detectors, in [section 5](05_models.ipynb). To finishe, we presented the main metrics to evaluate correctly the used models, as well how to validate hem, including a technique to define a threshold to the results, in [section 6](06_evaluation.ipynb). \n",
    "\n",
    "This way, we hope that this work had a positive impact in the academic comunity and industry, fomenting improvements in the solutions involving both themes (machine learning and cybersecurity) and serving as a baseline for introductory studies and more advanced courses."
   ]
  },
  {
   "cell_type": "markdown",
   "metadata": {},
   "source": [
    "---"
   ]
  },
  {
   "cell_type": "markdown",
   "metadata": {},
   "source": [
    "[**<< Previous Section**](06_evaluation.ipynb)"
   ]
  }
 ],
 "metadata": {
  "kernelspec": {
   "display_name": "Python 3",
   "language": "python",
   "name": "python3"
  },
  "language_info": {
   "codemirror_mode": {
    "name": "ipython",
    "version": 3
   },
   "file_extension": ".py",
   "mimetype": "text/x-python",
   "name": "python",
   "nbconvert_exporter": "python",
   "pygments_lexer": "ipython3",
   "version": "3.5.2"
  }
 },
 "nbformat": 4,
 "nbformat_minor": 4
}
