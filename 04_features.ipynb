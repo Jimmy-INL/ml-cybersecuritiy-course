{
 "cells": [
  {
   "cell_type": "markdown",
   "metadata": {},
   "source": [
    "# Section 4: Feature Extraction\n",
    "\n",
    "In this section we introduce how to extract features from textual features (using TF-IDF, Word2Vec and Encoders) and how to normalize them. "
   ]
  },
  {
   "cell_type": "markdown",
   "metadata": {},
   "source": [
    "## Methods\n",
    "\n",
    "TODO"
   ]
  },
  {
   "cell_type": "markdown",
   "metadata": {},
   "source": [
    "### TF-DF\n",
    "\n",
    "TODO"
   ]
  },
  {
   "cell_type": "code",
   "execution_count": 1,
   "metadata": {},
   "outputs": [],
   "source": [
    "import pandas as pd\n",
    "# dataset location\n",
    "data_path = \"./datasets/brazilian-malware.csv\"\n",
    "# read CSV dataset\n",
    "data = pd.read_csv(data_path)"
   ]
  },
  {
   "cell_type": "markdown",
   "metadata": {},
   "source": [
    "Convert DLLs to features:"
   ]
  },
  {
   "cell_type": "code",
   "execution_count": 20,
   "metadata": {},
   "outputs": [
    {
     "name": "stdout",
     "output_type": "stream",
     "text": [
      "(25091, 200) (25090, 200)\n"
     ]
    }
   ],
   "source": [
    "from sklearn.feature_extraction.text import TfidfVectorizer\n",
    "# get texts\n",
    "texts = data[\"ImportedDlls\"].values\n",
    "# get mid of data\n",
    "mid = int((len(texts) + 1)/2)\n",
    "# split data into train and test\n",
    "train_texts = texts[:mid]\n",
    "test_texts = texts[mid:]\n",
    "# initialize vectorizer\n",
    "vectorizer = TfidfVectorizer(max_features=200)\n",
    "# train vectorizer\n",
    "vectorizer.fit(train_texts)\n",
    "# transform train texts to features\n",
    "train_features = vectorizer.transform(train_texts)\n",
    "test_features = vectorizer.transform(test_texts)\n",
    "# print features shape\n",
    "print(train_features.shape, test_features.shape)"
   ]
  },
  {
   "cell_type": "markdown",
   "metadata": {},
   "source": [
    "### Word2Vec\n",
    "\n",
    "TODO"
   ]
  },
  {
   "cell_type": "code",
   "execution_count": 27,
   "metadata": {},
   "outputs": [
    {
     "name": "stdout",
     "output_type": "stream",
     "text": [
      "(25091, 200) (25090, 200)\n"
     ]
    }
   ],
   "source": [
    "from gensim.models import Word2Vec\n",
    "# vectorizer class: calc average of words using word2vec\n",
    "class MeanEmbeddingVectorizer(object):\n",
    "    def __init__(self, size, min_count=1): #word2vec):\n",
    "        self.size = size\n",
    "        self.min_count = 1\n",
    "\n",
    "    def fit(self, X):\n",
    "        w2v = Word2Vec(X,size=self.size,min_count=self.min_count)\n",
    "        self.word2vec = dict(zip(w2v.wv.index2word,w2v.wv.vectors))\n",
    "        # if a text is empty we should return a vector of zeros\n",
    "        # with the same dimensionality as all the other vectors\n",
    "        self.dim = len(list(self.word2vec.values())[0])\n",
    "        return self\n",
    "\n",
    "    def transform(self, X):\n",
    "        return np.array([\n",
    "            np.mean([self.word2vec[w] for w in words if w in self.word2vec]\n",
    "                    or [np.zeros(self.dim)], axis=0)\n",
    "            for words in X\n",
    "        ])\n",
    "# get texts\n",
    "texts = data[\"ImportedDlls\"].values\n",
    "# get mid of data\n",
    "mid = int((len(texts) + 1)/2)\n",
    "# split data into train and test\n",
    "train_texts = texts[:mid]\n",
    "test_texts = texts[mid:]\n",
    "# initialize vectorizer\n",
    "m = MeanEmbeddingVectorizer(size=200)\n",
    "# train vectorizer\n",
    "m.fit(train_texts)\n",
    "# transform train and test texts to w2v mean\n",
    "train_features = m.transform(train_texts)\n",
    "test_features = m.transform(test_texts)\n",
    "# print features shape\n",
    "print(train_features.shape, test_features.shape)"
   ]
  },
  {
   "cell_type": "markdown",
   "metadata": {},
   "source": [
    "## Normalization\n",
    "\n",
    "TODO"
   ]
  },
  {
   "cell_type": "markdown",
   "metadata": {},
   "source": [
    "### Min-Max\n",
    "\n",
    "TODO"
   ]
  },
  {
   "cell_type": "code",
   "execution_count": 32,
   "metadata": {},
   "outputs": [
    {
     "name": "stdout",
     "output_type": "stream",
     "text": [
      "(25091, 200) (25090, 200)\n"
     ]
    }
   ],
   "source": [
    "from sklearn.preprocessing import MinMaxScaler\n",
    "# initialize minmax\n",
    "scaler = MinMaxScaler(feature_range=(0, 1))\n",
    "# train minmax\n",
    "scaler.fit(train_features.toarray())\n",
    "# transform features\n",
    "train_features_norm = scaler.transform(train_features.toarray())\n",
    "test_features_norm = scaler.transform(test_features.toarray())\n",
    "print(train_features_norm.shape, test_features_norm.shape)"
   ]
  },
  {
   "cell_type": "markdown",
   "metadata": {},
   "source": [
    "### Standardization\n",
    "\n",
    "TODO"
   ]
  },
  {
   "cell_type": "code",
   "execution_count": null,
   "metadata": {},
   "outputs": [],
   "source": [
    "from sklearn.preprocessing import StandardScaler\n",
    "# initialize minmax\n",
    "scaler = StandardScaler()\n",
    "# train minmax\n",
    "scaler.fit(train_features.toarray())\n",
    "# transform features\n",
    "train_features_norm = scaler.transform(train_features.toarray())\n",
    "test_features_norm = scaler.transform(test_features.toarray())\n",
    "print(train_features_norm.shape, test_features_norm.shape)"
   ]
  }
 ],
 "metadata": {
  "kernelspec": {
   "display_name": "Python 3",
   "language": "python",
   "name": "python3"
  },
  "language_info": {
   "codemirror_mode": {
    "name": "ipython",
    "version": 3
   },
   "file_extension": ".py",
   "mimetype": "text/x-python",
   "name": "python",
   "nbconvert_exporter": "python",
   "pygments_lexer": "ipython3",
   "version": "3.5.2"
  }
 },
 "nbformat": 4,
 "nbformat_minor": 4
}
