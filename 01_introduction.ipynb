{
 "cells": [
  {
   "cell_type": "markdown",
   "metadata": {},
   "source": [
    "# Section 1: Introduction"
   ]
  },
  {
   "cell_type": "markdown",
   "metadata": {},
   "source": [
    "According to [Symantec](https://www.symantec.com/security-center/threat-report), around 144 milions of attacks for Windows were blocked only in 2018, an  average of 12 millions by month. This great amount of cybernetic attacks in a short space of time brings the urgent need to use smart methods to analyze them, such as artificial inteligence based systems capable of learning with the received data (machine learning). Machine learning is the science of programing computers to make them learn through data to solve a certain task, which performance can be measured using a metric [Gron 2017]. The collected data usually belongs to a pre-established groups, whose grouping occurs by the similarity of their patterns. In the case of cybernetic attacks, for example, we consider the malware detection as being a problem (or task) composed by two classes: malware (malign programs) and goodware (benign programs). The similarity between the malware is given by the fact that these type of program performs some malicious action whose objective is to cause a damage, change or even steal data. Goodware are programs which behavior is espected, without any of the mentioned malware problems. Through this collected data and the definition of classes, an algorithm is trained to detect if a certain unknown software is a malware or not. To evaluate this trained algorithm (model), there are several metrics that measure how good a system is at all, each presents a different perspective of the problem. \n",
    "\n",
    "The computer security area is full of research and development results depending on machine learning algorithms, in both academia and industry. However, when evaluating scientific articles, white-papers and even company presentations that use machine learning to detect or classify attacks, we observe that it is not rare the application of such algorithms contain problems, which could result in unrealistic results. The extension of these problems range from data collection, pre-processing, classification and interpretation of the obtained information. In image classification problems, for example, the data have stationary distribution, i.e., a dog will always be a dog and a cat will always be a cat, this is never going to change and the model assumes that it will always be like that. However, in security, data not always have this distribution: data usually have non-stationary distribution and change as time goes by to adapt to changes or to take advantage of unknown failures (zero-day), in the case of malware [Ceschin et al. 2018].\n",
    "\n",
    "The main objective of this course it to promote the right application of machine learning algorithms to security data, respecting the basic steps of data science. For that, we present to the reader the classic algorithms of machine learning and their traditional uses in classification/detection and data clustering that represent normal/benign and anomaly/malicious instances. During the course, each step in the data science process will be presented, from the data collection, attributions selection, algorithms, training, evaluation, validation and interpretation of the results. In each step, open source tools will be presented to help you to solve the tasks presented. All the source codes and datasets used are available in [this repository](https://github.com/fabriciojoc/ml-cybersecuritiy-course).\n",
    "\n",
    "This course is organized as follows:\n",
    "[Section 2](02_datasets.ipynb) shows how to make the data collection and label them correctly, highlighting the main problems related and datasets examples (which are used in the course);\n",
    "in [Section 3](03_attributes.ipynb) we present static and dynamic attributes extraction methods from Windows and Android files;\n",
    "features extraction (using TF-IDF and Word2Vec) and normalization is the main focus of [Section 4](04_features.ipynb);\n",
    "[Section 5](05_models.ipynb) presents the most used models in the machine learning applied to cybersecurity, including classifiers, change detectors and clustering algorithms, with practical examples, theory and libraries that implement them;\n",
    "the models evaluation is the topic of [Section 6](06_evaluation.ipynb), with the main metrics and validation methods.\n",
    "finally, in [Section 7](07_conclusion.ipynb) we present the conclusions."
   ]
  },
  {
   "cell_type": "markdown",
   "metadata": {},
   "source": [
    "## References\n"
   ]
  },
  {
   "cell_type": "markdown",
   "metadata": {},
   "source": [
    "[Ceschin et al. 2018] Ceschin, F., Pinage, F., Castilho, M., Menotti, D., Oliveira, L. S., and Gregio, A. (2018). The need for speed: An analysis of brazilian malware classifers. IEEE Security Privacy, 16(6):31–41.\n",
    "\n",
    "[Gron 2017] Gron, A. (2017). Hands-On Machine Learning with Scikit-Learn and TensorFlow: Concepts, Tools, and Techniques to Build Intelligent Systems. O’Reilly Media, Inc., 1st edition."
   ]
  },
  {
   "cell_type": "markdown",
   "metadata": {},
   "source": [
    "---"
   ]
  },
  {
   "cell_type": "markdown",
   "metadata": {},
   "source": [
    "[**Next Section >>**](02_datasets.ipynb)"
   ]
  }
 ],
 "metadata": {
  "kernelspec": {
   "display_name": "Python 3",
   "language": "python",
   "name": "python3"
  },
  "language_info": {
   "codemirror_mode": {
    "name": "ipython",
    "version": 3
   },
   "file_extension": ".py",
   "mimetype": "text/x-python",
   "name": "python",
   "nbconvert_exporter": "python",
   "pygments_lexer": "ipython3",
   "version": "3.5.2"
  }
 },
 "nbformat": 4,
 "nbformat_minor": 4
}
