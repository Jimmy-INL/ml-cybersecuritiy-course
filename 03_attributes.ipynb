{
 "cells": [
  {
   "cell_type": "markdown",
   "metadata": {},
   "source": [
    "# Section 3: Attributes"
   ]
  },
  {
   "cell_type": "markdown",
   "metadata": {},
   "source": [
    "Attributes are fundamental for the learning process, once that, after they become features and are labeled correctly, they are used as input to train a classifier. In this section we introduce how to effectively extract attributes from PE and APK files. There are two ways to extract attributes from softwares: statically and dynamically."
   ]
  },
  {
   "cell_type": "markdown",
   "metadata": {
    "toc-hr-collapsed": false
   },
   "source": [
    "## Static Analysis\n",
    "\n",
    "The static analysis consists in extracting attributes from a software without executing it. Generally, signature strings, bytes sequences, system calls, control flow graph, libraries, etc are extracted from a software statically [Gandotra et al. 2014]. In this course we are going to study the static analysis of Portable Executable (PE) and Android Package Kit (APK) files."
   ]
  },
  {
   "cell_type": "markdown",
   "metadata": {
    "toc-hr-collapsed": true
   },
   "source": [
    "### PE Files\n",
    "\n",
    "To extract static attributes from PE files, we are going to use the library [pefile](https://github.com/erocarrera/pefile). Most of the information contained in the PE headers, sections and their data are easily accessible by it [Yonts 2010, Saxe and Sanders 2018]. Here is an example of how to open a PE file, located at \"/datasets/samples/pe/\"."
   ]
  },
  {
   "cell_type": "code",
   "execution_count": 1,
   "metadata": {},
   "outputs": [],
   "source": [
    "import pefile\n",
    "# file location\n",
    "file_location = \"./datasets/samples/pe/WinRAR.exe\"\n",
    "# open file using pefile\n",
    "pe = pefile.PE(file_location)"
   ]
  },
  {
   "cell_type": "markdown",
   "metadata": {},
   "source": [
    "Now that we have our PE file loaded, it is possible to obtain its attributes, as shown bellow. In total, there are seven attributes that can be extracted: Machine, NumberOfSections, TimeDateStamp, PointerToSymbolTable, NumberOfSymbols, SizeOfOptionalHeader and Characteristics. Note that it is possible to get each attribute separately when accessing the variable FILE_HEADER from the pe object."
   ]
  },
  {
   "cell_type": "code",
   "execution_count": 2,
   "metadata": {},
   "outputs": [
    {
     "name": "stdout",
     "output_type": "stream",
     "text": [
      "[IMAGE_FILE_HEADER]\n",
      "0x114      0x0   Machine:                       0x8664    \n",
      "0x116      0x2   NumberOfSections:              0x8       \n",
      "0x118      0x4   TimeDateStamp:                 0x5C72EA4B [Sun Feb 24 19:02:35 2019 UTC]\n",
      "0x11C      0x8   PointerToSymbolTable:          0x0       \n",
      "0x120      0xC   NumberOfSymbols:               0x0       \n",
      "0x124      0x10  SizeOfOptionalHeader:          0xF0      \n",
      "0x126      0x12  Characteristics:               0x22      \n",
      "8\n"
     ]
    }
   ],
   "source": [
    "# get attributes from file\n",
    "print(pe.FILE_HEADER)\n",
    "# get timedate stamp from file header (if you want any other attribute, just change \"NumberOfSections\" to any other attribute listed in previous print)\n",
    "print(pe.FILE_HEADER.NumberOfSections)"
   ]
  },
  {
   "cell_type": "markdown",
   "metadata": {},
   "source": [
    "At the same time, it is also possible to get attributes from the optional header, you just need to access the variable OPTIONAL_HEADER from the pe object."
   ]
  },
  {
   "cell_type": "code",
   "execution_count": 3,
   "metadata": {},
   "outputs": [
    {
     "name": "stdout",
     "output_type": "stream",
     "text": [
      "[IMAGE_OPTIONAL_HEADER64]\n",
      "0x128      0x0   Magic:                         0x20B     \n",
      "0x12A      0x2   MajorLinkerVersion:            0xE       \n",
      "0x12B      0x3   MinorLinkerVersion:            0x0       \n",
      "0x12C      0x4   SizeOfCode:                    0x10C800  \n",
      "0x130      0x8   SizeOfInitializedData:         0x1BDA00  \n",
      "0x134      0xC   SizeOfUninitializedData:       0x0       \n",
      "0x138      0x10  AddressOfEntryPoint:           0xF1588   \n",
      "0x13C      0x14  BaseOfCode:                    0x1000    \n",
      "0x140      0x18  ImageBase:                     0x140000000\n",
      "0x148      0x20  SectionAlignment:              0x1000    \n",
      "0x14C      0x24  FileAlignment:                 0x200     \n",
      "0x150      0x28  MajorOperatingSystemVersion:   0x5       \n",
      "0x152      0x2A  MinorOperatingSystemVersion:   0x2       \n",
      "0x154      0x2C  MajorImageVersion:             0x0       \n",
      "0x156      0x2E  MinorImageVersion:             0x0       \n",
      "0x158      0x30  MajorSubsystemVersion:         0x5       \n",
      "0x15A      0x32  MinorSubsystemVersion:         0x2       \n",
      "0x15C      0x34  Reserved1:                     0x0       \n",
      "0x160      0x38  SizeOfImage:                   0x2D0000  \n",
      "0x164      0x3C  SizeOfHeaders:                 0x400     \n",
      "0x168      0x40  CheckSum:                      0x234A84  \n",
      "0x16C      0x44  Subsystem:                     0x2       \n",
      "0x16E      0x46  DllCharacteristics:            0x8160    \n",
      "0x170      0x48  SizeOfStackReserve:            0x100000  \n",
      "0x178      0x50  SizeOfStackCommit:             0x1000    \n",
      "0x180      0x58  SizeOfHeapReserve:             0x100000  \n",
      "0x188      0x60  SizeOfHeapCommit:              0x1000    \n",
      "0x190      0x68  LoaderFlags:                   0x0       \n",
      "0x194      0x6C  NumberOfRvaAndSizes:           0x10      \n",
      "1099776\n"
     ]
    }
   ],
   "source": [
    "# print attributes from optional header\n",
    "print(pe.OPTIONAL_HEADER)\n",
    "# get size of code from optional header (if you want any other attribute, just change \"SizeOfCode\" to any other attribute listed in previous print)\n",
    "print(pe.OPTIONAL_HEADER.SizeOfCode)"
   ]
  },
  {
   "cell_type": "markdown",
   "metadata": {},
   "source": [
    "Besides accessing the header of a file, it is also possible to obtain its imported dynamic libraries. To do that, you just need to access the variable DIRECTORY_ENTRY_IMPORT from the pe object. This variable maps each DLL used by the program in an object, which name of the library can be accessed through the variable dll. Bellow, there is an example."
   ]
  },
  {
   "cell_type": "code",
   "execution_count": 4,
   "metadata": {},
   "outputs": [
    {
     "name": "stdout",
     "output_type": "stream",
     "text": [
      "[b'KERNEL32.dll', b'USER32.dll', b'GDI32.dll', b'COMDLG32.dll', b'ADVAPI32.dll', b'SHELL32.dll', b'ole32.dll', b'OLEAUT32.dll', b'SHLWAPI.dll', b'POWRPROF.dll', b'COMCTL32.dll', b'UxTheme.dll', b'gdiplus.dll', b'MSIMG32.dll']\n"
     ]
    }
   ],
   "source": [
    "# get imported dlls:\n",
    "dlls = []\n",
    "# walk in DIRECTORY_ENTRY_IMPORT\n",
    "for d in pe.DIRECTORY_ENTRY_IMPORT:\n",
    "    # append dll to dlls list\n",
    "    dlls.append(d.dll)\n",
    "# print dlls list\n",
    "print(dlls)"
   ]
  },
  {
   "cell_type": "markdown",
   "metadata": {},
   "source": [
    "Through the same variable, it is possible to get all the system calls imported by each library used by the program, as shown bellow."
   ]
  },
  {
   "cell_type": "code",
   "execution_count": 5,
   "metadata": {},
   "outputs": [
    {
     "name": "stdout",
     "output_type": "stream",
     "text": [
      "[b'DeviceIoControl', b'BackupRead', b'BackupSeek', b'GetShortPathNameW', b'GetLongPathNameW', b'GetFileType', b'GetStdHandle', b'FlushFileBuffers', b'GetFileTime', b'GetDiskFreeSpaceExW', b'GetVersionExW', b'GetCurrentDirectoryW', b'GetFullPathNameW', b'FoldStringW', b'LoadResource', b'SizeofResource', b'FindResourceW', b'LoadLibraryExW', b'CompareStringA', b'GetCurrentThread', b'SetThreadPriority', b'SetThreadExecutionState', b'CreateEventW', b'GetSystemDirectoryW', b'SetCurrentDirectoryW', b'GetFullPathNameA', b'SetPriorityClass', b'GetProcessAffinityMask', b'CreateThread', b'InitializeCriticalSection', b'EnterCriticalSection', b'LeaveCriticalSection', b'DeleteCriticalSection', b'SetEvent', b'ResetEvent', b'ReleaseSemaphore', b'CreateSemaphoreW', b'GetSystemTime', b'TzSpecificLocalTimeToSystemTime', b'GetCPInfo', b'IsDBCSLeadByte', b'WideCharToMultiByte', b'CompareStringW', b'GetModuleHandleExW', b'GetCompressedFileSizeW', b'EnumResourceNamesW', b'EnumResourceLanguagesW', b'BeginUpdateResourceW', b'UpdateResourceW', b'EndUpdateResourceW', b'GetLocaleInfoW', b'GetNumberFormatW', b'GetLogicalDrives', b'LockResource', b'SuspendThread', b'ResumeThread', b'GetStartupInfoW', b'GetCurrentThreadId', b'Beep', b'CopyFileW', b'FormatMessageW', b'SetErrorMode', b'GetPriorityClass', b'WaitForMultipleObjects', b'MulDiv', b'CompareFileTime', b'FindNextChangeNotification', b'GetProcessHeap', b'SetEnvironmentVariableA', b'FreeEnvironmentStringsW', b'GetEnvironmentStringsW', b'GetCommandLineA', b'IsValidCodePage', b'FindNextFileA', b'FindFirstFileExA', b'GetStringTypeW', b'WriteConsoleW', b'SetStdHandle', b'LCMapStringW', b'HeapReAlloc', b'GetModuleFileNameA', b'ExitProcess', b'GetConsoleCP', b'ReadConsoleW', b'GetConsoleMode', b'SetFilePointerEx', b'FreeLibraryAndExitThread', b'ExitThread', b'QueryPerformanceFrequency', b'EncodePointer', b'TlsFree', b'TlsSetValue', b'TlsGetValue', b'TlsAlloc', b'InitializeCriticalSectionAndSpinCount', b'RtlUnwindEx', b'RaiseException', b'RtlPcToFileHeader', b'InitializeSListHead', b'QueryPerformanceCounter', b'IsDebuggerPresent', b'WaitForSingleObjectEx', b'IsProcessorFeaturePresent', b'TerminateProcess', b'SetUnhandledExceptionFilter', b'UnhandledExceptionFilter', b'RtlVirtualUnwind', b'RtlLookupFunctionEntry', b'RtlCaptureContext', b'GetFileInformationByHandle', b'GetLocalTime', b'FindCloseChangeNotification', b'FindFirstChangeNotificationW', b'ExpandEnvironmentStringsW', b'SystemTimeToFileTime', b'SystemTimeToTzSpecificLocalTime', b'FindNextFileW', b'GetDiskFreeSpaceW', b'CreateHardLinkW', b'SetLastError', b'DosDateTimeToFileTime', b'LocalFileTimeToFileTime', b'HeapFree', b'HeapAlloc', b'HeapDestroy', b'HeapCreate', b'DeleteFileW', b'SetFileAttributesW', b'CreateFileW', b'RemoveDirectoryW', b'CreateDirectoryW', b'LoadLibraryW', b'GetSystemTimeAsFileTime', b'SetFileTime', b'SetFilePointer', b'SetEndOfFile', b'ReadFile', b'WriteFile', b'GetFileSize', b'FreeLibrary', b'MoveFileW', b'GetTickCount', b'GetCPInfoExW', b'GetOEMCP', b'GetACP', b'GetVolumeInformationW', b'GetDriveTypeW', b'Sleep', b'GetCurrentProcessId', b'GetCurrentProcess', b'CreateMutexW', b'ReleaseMutex', b'GetLastError', b'GlobalFree', b'GlobalUnlock', b'GlobalLock', b'GlobalSize', b'GlobalAlloc', b'HeapSize', b'MultiByteToWideChar', b'GetVersionExA', b'GetModuleHandleW', b'GetProcAddress', b'GetTempPathW', b'OpenFileMappingW', b'CreateFileMappingW', b'UnmapViewOfFile', b'MapViewOfFile', b'CloseHandle', b'WaitForSingleObject', b'GetCommandLineW', b'GetModuleFileNameW', b'GetDateFormatW', b'GetTimeFormatW', b'FindFirstFileW', b'FileTimeToSystemTime', b'FileTimeToLocalFileTime', b'FindClose', b'GetThreadPriority', b'GetFileAttributesW', b'CopyImage', b'FindWindowExW', b'FillRect', b'MessageBoxW', b'CreateIcon', b'EnumWindows', b'SetForegroundWindow', b'IsCharAlphaW', b'FlashWindow', b'CopyRect', b'RegisterClassExW', b'GetSysColor', b'ValidateRect', b'DrawIconEx', b'LoadImageW', b'SystemParametersInfoW', b'GetSystemMenu', b'KillTimer', b'SetTimer', b'MessageBoxIndirectW', b'CharUpperW', b'ExitWindowsEx', b'CharLowerA', b'LoadStringW', b'GetWindow', b'SetProcessDefaultLayout', b'CharToOemBuffW', b'OemToCharBuffA', b'OemToCharA', b'GetComboBoxInfo', b'RedrawWindow', b'MessageBeep', b'CharToOemA', b'EmptyClipboard', b'SetClipboardData', b'CloseClipboard', b'OpenClipboard', b'PeekMessageW', b'GetScrollInfo', b'EnableMenuItem', b'CheckMenuItem', b'GetFocus', b'MoveWindow', b'GetClientRect', b'GetWindowTextLengthW', b'EndPaint', b'BeginPaint', b'UpdateWindow', b'AppendMenuW', b'RegisterWindowMessageW', b'DrawMenuBar', b'wsprintfW', b'SetWindowLongPtrW', b'ScreenToClient', b'ClientToScreen', b'CallWindowProcW', b'PtInRect', b'SetMenuItemInfoW', b'GetMenuItemInfoW', b'InsertMenuItemW', b'TrackPopupMenu', b'DeleteMenu', b'GetMenuItemID', b'SetMenu', b'LoadMenuW', b'LoadAcceleratorsW', b'IsChild', b'RegisterClassW', b'PostQuitMessage', b'SetScrollRange', b'SetScrollPos', b'ScrollWindowEx', b'GetClipboardData', b'LoadIconW', b'CreateDialogParamW', b'GetMessageW', b'PostThreadMessageW', b'IsDialogMessageW', b'GetIconInfo', b'CreateIconIndirect', b'FindWindowW', b'RemovePropW', b'SendMessageW', b'DefWindowProcW', b'CreateWindowExW', b'DestroyWindow', b'SetFocus', b'GetWindowTextW', b'GetWindowLongW', b'SetWindowLongW', b'SetWindowPos', b'GetWindowPlacement', b'SetWindowPlacement', b'IsWindowVisible', b'DialogBoxParamW', b'GetPropW', b'SetPropW', b'GetForegroundWindow', b'TranslateAcceleratorW', b'CreateDialogIndirectParamW', b'GetLastActivePopup', b'GetMenuState', b'BringWindowToTop', b'DispatchMessageW', b'InsertMenuW', b'GetSubMenu', b'DestroyMenu', b'CreatePopupMenu', b'GetMenu', b'IsWindow', b'EndDialog', b'GetDlgItem', b'SetDlgItemTextW', b'GetDlgItemTextW', b'SendDlgItemMessageW', b'GetWindowRect', b'MapWindowPoints', b'GetParent', b'DestroyIcon', b'CheckDlgButton', b'PostMessageW', b'InvalidateRect', b'EnumChildWindows', b'GetClassNameW', b'ShowWindow', b'CharToOemBuffA', b'SetDlgItemInt', b'GetDlgItemInt', b'TranslateMessage', b'GetMenuItemCount', b'WaitForInputIdle', b'LoadCursorW', b'GetWindowThreadProcessId', b'WindowFromPoint', b'SetCursor', b'GetKeyState', b'RegisterClipboardFormatW', b'SystemParametersInfoA', b'GetDesktopWindow', b'GetWindowLongPtrW', b'IntersectRect', b'GetCursorPos', b'SetWindowTextW', b'ReleaseDC', b'GetDC', b'GetSystemMetrics', b'EnableWindow', b'IsIconic', b'IsWindowEnabled', b'IsDlgButtonChecked', b'CharLowerW', b'TextOutA', b'SetPixel', b'Rectangle', b'GetTextExtentPoint32W', b'CreateSolidBrush', b'CreateDIBSection', b'GetPixel', b'DPtoLP', b'StretchBlt', b'SetMapMode', b'GetMapMode', b'GetDeviceCaps', b'CreateCompatibleBitmap', b'CreateBitmap', b'ExtTextOutW', b'SetBkColor', b'DeleteDC', b'CreateCompatibleDC', b'BitBlt', b'GetObjectW', b'TextOutW', b'MoveToEx', b'SetTextColor', b'LineTo', b'CreatePen', b'GetTextFaceW', b'GetTextMetricsW', b'SelectObject', b'DeleteObject', b'CreateFontW', b'GetOpenFileNameW', b'GetSaveFileNameW', b'CommDlgExtendedError', b'ChooseFontW', b'AllocateAndInitializeSid', b'AccessCheck', b'OpenProcessToken', b'MapGenericMask', b'GetFileSecurityW', b'RegCloseKey', b'IsTextUnicode', b'RegSetValueExW', b'RegEnumValueW', b'RegEnumKeyExW', b'RegDeleteValueW', b'RegDeleteKeyW', b'RegCreateKeyExW', b'CheckTokenMembership', b'FreeSid', b'DuplicateToken', b'SetFileSecurityW', b'GetSecurityDescriptorLength', b'CryptGenRandom', b'CryptReleaseContext', b'CryptAcquireContextW', b'LookupPrivilegeValueW', b'AdjustTokenPrivileges', b'RegQueryValueExW', b'RegOpenKeyExW', b'FindExecutableW', b'DragFinish', b'DragQueryFileW', b'Shell_NotifyIconW', b'DragAcceptFiles', b'SHGetSpecialFolderLocation', b'SHAddToRecentDocs', b'SHFileOperationW', b'SHGetFolderPathW', b'ShellExecuteExW', b'SHBrowseForFolderW', b'SHGetMalloc', b'SHChangeNotify', b'SHGetDesktopFolder', b'SHGetFolderLocation', b'SHGetPathFromIDListW', b'SHGetFileInfoW', b'ShellExecuteW', b'RevokeDragDrop', b'RegisterDragDrop', b'OleUninitialize', b'OleInitialize', b'CLSIDFromString', b'CreateStreamOnHGlobal', b'CoTaskMemAlloc', b'CoInitializeEx', b'CoTaskMemFree', b'CoCreateInstance', b'OleSetClipboard', b'DoDragDrop', b'VariantClear', b'SysAllocString', b'StrCmpLogicalW', b'SHAutoComplete', b'SetSuspendState', b'CreateStatusWindowW', b'ImageList_Create', b'ImageList_ReplaceIcon', b'InitCommonControlsEx', b'PropertySheetW', b'IsThemeActive', b'IsAppThemed', b'GdiplusShutdown', b'GdiplusStartup', b'GdipCreateHBITMAPFromBitmap', b'GdipCreateBitmapFromFileICM', b'GdipCreateBitmapFromStreamICM', b'GdipCreateBitmapFromFile', b'GdipCreateBitmapFromStream', b'GdipDisposeImage', b'GdipCloneImage', b'GdipFree', b'GdipAlloc', b'GdipCreateBitmapFromHBITMAP', b'GdipBitmapGetPixel', b'GdipBitmapSetPixel', b'GradientFill']\n"
     ]
    }
   ],
   "source": [
    "# get used api calls\n",
    "symbols = []\n",
    "# walk in DIRECTORY_ENTRY_IMPORT\n",
    "for i in pe.DIRECTORY_ENTRY_IMPORT:\n",
    "    # walk in imported symbols\n",
    "    for s in i.imports:\n",
    "        # check if symbol is valid\n",
    "        if s.name != None:\n",
    "            # append to symbols list\n",
    "            symbols.append(s.name)\n",
    "# print symbols\n",
    "print(symbols)"
   ]
  },
  {
   "cell_type": "markdown",
   "metadata": {},
   "source": [
    "Print all PE header information:"
   ]
  },
  {
   "cell_type": "code",
   "execution_count": 6,
   "metadata": {},
   "outputs": [],
   "source": [
    "# print(pe.dump_info())"
   ]
  },
  {
   "cell_type": "markdown",
   "metadata": {},
   "source": [
    "To get file header information in a simpler way, it is recommended to use the dict (*pe.dump_dict()*) which is used to print previous example. This step help us to build an attribute vector that can be used to extract features for our machine learning models further."
   ]
  },
  {
   "cell_type": "code",
   "execution_count": 7,
   "metadata": {},
   "outputs": [
    {
     "name": "stdout",
     "output_type": "stream",
     "text": [
      "NumberOfSections: 8\n",
      "PointerToSymbolTable: 0\n",
      "Machine: 34404\n",
      "NumberOfSymbols: 0\n",
      "SizeOfOptionalHeader: 240\n",
      "TimeDateStamp: 0x5C72EA4B [Sun Feb 24 19:02:35 2019 UTC]\n",
      "Characteristics: 34\n"
     ]
    }
   ],
   "source": [
    "# pe.dump_dict() return a dict used to build the string from previous example\n",
    "for k, v in pe.dump_dict()['FILE_HEADER'].items():\n",
    "    # check if it is a dict to get its value\n",
    "    if isinstance(v,dict):\n",
    "        print(\"{}: {}\".format(k, v[\"Value\"]))"
   ]
  },
  {
   "cell_type": "markdown",
   "metadata": {},
   "source": [
    "For more information about pefile, we recommend you to read this [article](https://axcheron.github.io/pe-format-manipulation-with-pefile/), which present more interesting examples."
   ]
  },
  {
   "cell_type": "markdown",
   "metadata": {},
   "source": [
    "#### Exercise:\n",
    "Based on samples presented, create a Python method that extract attributes from a single PE file, returning a list of attributes. After that, extract the attributes from all files located at './datasets/samples/pe/' and create an attributes matrix."
   ]
  },
  {
   "cell_type": "code",
   "execution_count": 8,
   "metadata": {},
   "outputs": [],
   "source": [
    "from glob import glob\n",
    "# data path\n",
    "path = \"./datasets/samples/pe/*.exe\"\n",
    "# get list of files\n",
    "files = glob(path)\n",
    "# method to extract attributes from a single file\n",
    "def extract_attributes(file):\n",
    "    # continue here...\n",
    "    return"
   ]
  },
  {
   "cell_type": "markdown",
   "metadata": {
    "toc-hr-collapsed": true
   },
   "source": [
    "### APK Files\n",
    "\n",
    "In this example, we are going to use the library [androguard](https://github.com/androguard/androguard) to obtain static attributes from APK. It is possible to get informations from the manifest, resources, disassembled DEX, and much more (the documentation can be found [here](https://androguard.readthedocs.io/). Similar to pefile, here is an example of how to open an APK sample, located at \"/datasets/samples/apk/\" (it may take time depending on the APK size). The main difference here is that this library returns three objects: an APK object (which provides all the APK information), a DalvikVMFormat list (which corresponds to the DEX files found inside the APK) and an Analysis object (which contains special classes to deal with multi-DEX apps). For more details about this library, we recommend to read its [documentation](https://androguard.readthedocs.io/en/latest/index.html). "
   ]
  },
  {
   "cell_type": "code",
   "execution_count": 9,
   "metadata": {},
   "outputs": [],
   "source": [
    "from androguard.misc import AnalyzeAPK\n",
    "# file location\n",
    "file_location = \"./datasets/samples/apk/com.whatsapp_2.19.203-452877_minAPI15(armeabi-v7a)(nodpi)_apkmirror.com.apk\"\n",
    "# open file using AnalyzeAPK\n",
    "a, d, dx = AnalyzeAPK(file_location)"
   ]
  },
  {
   "cell_type": "markdown",
   "metadata": {},
   "source": [
    "After reading the APK, it is possible to get its permissions:"
   ]
  },
  {
   "cell_type": "code",
   "execution_count": 10,
   "metadata": {},
   "outputs": [
    {
     "name": "stdout",
     "output_type": "stream",
     "text": [
      "['android.permission.AUTHENTICATE_ACCOUNTS', 'android.permission.CHANGE_WIFI_STATE', 'android.permission.ACCESS_FINE_LOCATION', 'android.permission.INTERNET', 'android.permission.SEND_SMS', 'android.permission.WRITE_SYNC_SETTINGS', 'com.sec.android.provider.badge.permission.WRITE', 'android.permission.WRITE_EXTERNAL_STORAGE', 'com.huawei.android.launcher.permission.WRITE_SETTINGS', 'com.whatsapp.permission.BROADCAST', 'android.permission.REQUEST_INSTALL_PACKAGES', 'android.permission.BROADCAST_STICKY', 'android.permission.RECEIVE_BOOT_COMPLETED', 'com.whatsapp.permission.MAPS_RECEIVE', 'android.permission.READ_SYNC_STATS', 'android.permission.NFC', 'com.huawei.android.launcher.permission.READ_SETTINGS', 'android.permission.VIBRATE', 'android.permission.WRITE_CONTACTS', 'android.permission.READ_SYNC_SETTINGS', 'android.permission.MANAGE_ACCOUNTS', 'android.permission.RECEIVE_SMS', 'com.sonymobile.home.permission.PROVIDER_INSERT_BADGE', 'android.permission.GET_TASKS', 'com.whatsapp.permission.REGISTRATION', 'com.htc.launcher.permission.READ_SETTINGS', 'android.permission.ACCESS_WIFI_STATE', 'android.permission.USE_FINGERPRINT', 'com.android.launcher.permission.INSTALL_SHORTCUT', 'android.permission.READ_EXTERNAL_STORAGE', 'com.whatsapp.permission.C2D_MESSAGE', 'android.permission.ACCESS_COARSE_LOCATION', 'android.permission.USE_BIOMETRIC', 'android.permission.INSTALL_SHORTCUT', 'android.permission.USE_CREDENTIALS', 'com.google.android.c2dm.permission.RECEIVE', 'android.permission.BLUETOOTH', 'android.permission.CHANGE_NETWORK_STATE', 'com.huawei.android.launcher.permission.CHANGE_BADGE', 'android.permission.READ_PROFILE', 'android.permission.ACCESS_NETWORK_STATE', 'com.htc.launcher.permission.UPDATE_SHORTCUT', 'com.android.launcher.permission.UNINSTALL_SHORTCUT', 'com.whatsapp.sticker.READ', 'android.permission.READ_CONTACTS', 'android.permission.GET_ACCOUNTS', 'com.sonyericsson.home.permission.BROADCAST_BADGE', 'android.permission.RECORD_AUDIO', 'android.permission.READ_PHONE_STATE', 'android.permission.FOREGROUND_SERVICE', 'com.google.android.providers.gsf.permission.READ_GSERVICES', 'com.sec.android.provider.badge.permission.READ', 'android.permission.WAKE_LOCK', 'android.permission.MODIFY_AUDIO_SETTINGS', 'android.permission.CAMERA', 'android.permission.MANAGE_OWN_CALLS']\n"
     ]
    }
   ],
   "source": [
    "print(a.get_permissions())"
   ]
  },
  {
   "cell_type": "markdown",
   "metadata": {},
   "source": [
    "It is also possible to get a list of all activites, which are defined in the AndroidManifest.xml:"
   ]
  },
  {
   "cell_type": "code",
   "execution_count": 11,
   "metadata": {},
   "outputs": [
    {
     "name": "stdout",
     "output_type": "stream",
     "text": [
      "['org.npci.commonlibrary.GetCredential', 'com.whatsapp.payments.ui.IndiaUpiPaymentsTosActivity', 'com.whatsapp.payments.ui.IndiaUpiPaymentTransactionDetailsActivity', 'com.whatsapp.payments.ui.IndiaUpiPaymentsAccountSetupActivity', 'com.whatsapp.payments.ui.IndiaUpiBankPickerActivity', 'com.whatsapp.payments.ui.IndiaUpiPaymentBankSetupActivity', 'com.whatsapp.payments.ui.IndiaUpiBankAccountPickerActivity', 'com.whatsapp.payments.ui.IndiaUpiDebitCardVerifActivity', 'com.whatsapp.payments.ui.IndiaUpiEducationActivity', 'com.whatsapp.payments.ui.IndiaUpiBankAccountLinkingConfirmationActivity', 'com.whatsapp.payments.ui.IndiaUpiBankAccountLinkingRetryActivity', 'com.whatsapp.payments.ui.IndiaUpiBankAccountDetailsActivity', 'com.whatsapp.payments.ui.IndiaUpiResetPinActivity', 'com.whatsapp.payments.ui.IndiaUpiDeviceBindActivity', 'com.whatsapp.payments.ui.IndiaUpiVpaContactInfoActivity', 'com.whatsapp.payments.ui.IndiaUpiChangePinActivity', 'com.whatsapp.payments.ui.IndiaUpiInvitePaymentActivity', 'com.whatsapp.payments.ui.IndiaUpiPaymentActivity', 'com.whatsapp.payments.ui.IndiaUpiPaymentSettingsActivity', 'com.whatsapp.payments.ui.IndiaUpiContactPicker', 'com.whatsapp.payments.ui.IndiaUpiQrCodeScanActivity', 'com.whatsapp.payments.ui.IndiaUpiQrCodeDisplayActivity', 'com.whatsapp.payments.ui.IndiaUpiPaymentLauncherActivity', 'com.whatsapp.payments.ui.PaymentTransactionHistoryActivity', 'com.whatsapp.payments.ui.PaymentGroupParticipantPickerActivity', 'com.whatsapp.payments.ui.PaymentTransactionDetailsActivity', 'com.whatsapp.payments.ui.PaymentDeleteAccountActivity', 'com.whatsapp.payments.ui.PaymentContactPicker', 'com.whatsapp.Main', 'com.whatsapp.Conversation', 'com.whatsapp.ProfileInfoActivity', 'com.whatsapp.ProfilePhotoReminder', 'com.whatsapp.SetStatus', 'com.whatsapp.registration.EULA', 'com.whatsapp.registration.RegisterPhone', 'com.whatsapp.registration.VerifySms', 'com.whatsapp.registration.VerifyTwoFactorAuth', 'com.whatsapp.registration.RegisterName', 'com.whatsapp.DescribeProblemActivity', 'com.whatsapp.SystemStatusActivity', 'com.whatsapp.Settings', 'com.whatsapp.SettingsAccount', 'com.whatsapp.SettingsChat', 'com.whatsapp.SettingsDataUsage', 'com.whatsapp.SettingsChatHistory', 'com.whatsapp.SettingsHelp', 'com.whatsapp.SettingsNotifications', 'com.whatsapp.GroupSettingsActivity', 'com.whatsapp.SettingsJidNotificationActivity', 'com.whatsapp.SettingsNetworkUsage', 'com.whatsapp.StorageUsageActivity', 'com.whatsapp.StorageUsageDetailActivity', 'com.whatsapp.SettingsPrivacy', 'com.whatsapp.SettingsSecurity', 'com.whatsapp.GdprReportActivity', 'com.whatsapp.twofactor.SettingsTwoFactorAuthActivity', 'com.whatsapp.twofactor.TwoFactorAuthActivity', 'com.whatsapp.gdrive.SettingsGoogleDrive', 'com.whatsapp.faq.SearchFAQ', 'com.whatsapp.faq.FaqItemActivity', 'com.whatsapp.About', 'com.whatsapp.stickers.StickerStorePackPreviewActivity', 'com.whatsapp.BlockList', 'com.whatsapp.FingerprintSettingsActivity', 'com.whatsapp.ContactPicker', 'com.whatsapp.AddContactActivity', 'com.whatsapp.AddContactResultActivity', 'com.whatsapp.GroupAdminPickerActivity', 'com.whatsapp.voipcalling.GroupCallParticipantPickerSheet', 'com.whatsapp.PhoneContactsSelector', 'com.whatsapp.deeplink.DeepLinkActivity', 'com.whatsapp.ListMembersSelector', 'com.whatsapp.EditBroadcastRecipientsSelector', 'com.whatsapp.GroupMembersSelector', 'com.whatsapp.AddGroupParticipantsSelector', 'com.whatsapp.MessageDetailsActivity', 'com.whatsapp.NewGroup', 'com.whatsapp.GroupChatInfo', 'com.whatsapp.EditGroupAdminsSelector', 'com.whatsapp.location.GroupChatLiveLocationsActivity', 'com.whatsapp.location.GroupChatLiveLocationsActivity2', 'com.whatsapp.Licenses', 'com.whatsapp.ListChatInfo', 'com.whatsapp.ContactInfo', 'com.whatsapp.biz.BusinessProfileExtraFieldsActivity', 'com.whatsapp.CallLogActivity', 'com.whatsapp.voipcalling.GroupCallLogActivity', 'com.whatsapp.StarredMessagesActivity', 'com.whatsapp.ArchivedConversationsActivity', 'com.whatsapp.HomeActivity', 'com.whatsapp.QuickContactActivity', 'com.whatsapp.ViewSharedContactArrayActivity', 'com.whatsapp.CountryPicker', 'com.whatsapp.crop.CropImage', 'com.whatsapp.wallpaper.WallpaperPicker', 'com.whatsapp.wallpaper.WallpaperPreview', 'com.whatsapp.ContactPickerHelp', 'com.whatsapp.wallpaper.ResetWallpaper', 'com.whatsapp.wallpaper.SolidColorWallpaper', 'com.whatsapp.wallpaper.SolidColorWallpaperPreview', 'com.whatsapp.wallpaper.DefaultWallpaper', 'com.whatsapp.CapturePhoto', 'com.whatsapp.ResetGroupPhoto', 'com.whatsapp.ResetProfilePhoto', 'com.whatsapp.Remove', 'com.whatsapp.ViewProfilePhoto$SavePhoto', 'com.whatsapp.accountsync.LoginActivity', 'com.whatsapp.accountsync.ProfileActivity', 'com.whatsapp.accountsync.CallContactLandingActivity', 'com.whatsapp.notification.PopupNotification', 'com.whatsapp.MediaGallery', 'com.whatsapp.MediaView', 'com.whatsapp.OverlayAlert', 'com.whatsapp.WebImagePicker', 'com.whatsapp.ViewProfilePhoto', 'com.whatsapp.SmsDefaultAppWarning', 'com.whatsapp.location.LocationPicker', 'com.whatsapp.location.LocationPicker2', 'com.whatsapp.DocumentPickerActivity', 'com.whatsapp.DeleteAccountActivity', 'com.whatsapp.DeleteAccountFeedback', 'com.whatsapp.DeleteAccountConfirmation', 'com.whatsapp.messaging.CaptivePortalActivity', 'com.whatsapp.registration.ChangeNumber', 'com.whatsapp.registration.ChangeNumberNotifyContacts', 'com.whatsapp.registration.ChangeNumberOverview', 'com.whatsapp.registration.NotifyContactsSelector', 'com.whatsapp.gallerypicker.MediaPreviewActivity', 'com.whatsapp.gallerypicker.GalleryPicker', 'com.whatsapp.gallerypicker.GalleryPickerLauncher', 'com.whatsapp.gallerypicker.MediaPicker', 'com.whatsapp.camera.CameraActivity', 'com.whatsapp.camera.LauncherCameraActivity', 'com.whatsapp.voipcalling.VoipActivityV2', 'com.whatsapp.voipcalling.VoipNotAllowedActivity', 'com.whatsapp.voipcalling.GroupCallParticipantPicker', 'com.whatsapp.CallRatingActivity', 'com.whatsapp.CallSpamActivity', 'com.whatsapp.RequestPermissionActivity', 'com.whatsapp.RequestPermissionRegistrationActivity', 'com.whatsapp.gdrive.RestoreFromBackupActivity', 'com.whatsapp.gdrive.GoogleDriveNewUserSetupActivity', 'com.whatsapp.CorruptInstallationActivity', 'com.whatsapp.InsufficientStorageSpaceActivity', 'com.whatsapp.SpamWarningActivity', 'com.whatsapp.qrcode.DevicePairQrScannerActivity', 'com.whatsapp.WebSessionsActivity', 'com.whatsapp.VoiceMessagingActivity', 'com.whatsapp.IdentityVerificationActivity', 'com.whatsapp.TosUpdateActivity', 'com.whatsapp.wallpaper.GalleryWallpaperPreview', 'com.whatsapp.ShareInviteLinkActivity', 'com.whatsapp.invites.ViewGroupInviteActivity', 'com.whatsapp.invites.InviteGroupParticipantsActivity', 'com.whatsapp.AcceptInviteLinkActivity', 'com.whatsapp.WriteNfcTagActivity', 'com.whatsapp.GroupAddPrivacyActivity', 'com.whatsapp.StatusPrivacyActivity', 'com.whatsapp.StatusRecipientsActivity', 'com.whatsapp.status.playback.StatusPlaybackActivity', 'com.whatsapp.status.playback.StatusReplyActivity', 'com.whatsapp.status.playback.MyStatusesActivity', 'com.whatsapp.LiveLocationPrivacyActivity', 'com.whatsapp.TextStatusComposerActivity', 'com.whatsapp.MediaAlbumActivity', 'com.whatsapp.MessageReplyActivity', 'com.whatsapp.GifVideoPreviewActivity', 'com.whatsapp.voipcalling.VoipPermissionsActivity', 'com.whatsapp.stickers.AddThirdPartyStickerPackActivity', 'com.whatsapp.AudioPickerActivity', 'com.whatsapp.WaInAppBrowsingActivity', 'com.whatsapp.AuthFingerprintActivity', 'com.whatsapp.AuthFingerprintCancelledActivity', 'com.whatsapp.ConversationVideoPictureInPictureActivity', 'com.whatsapp.qrcode.contactqr.ContactQrActivity', 'com.whatsapp.biz.catalog.CatalogMediaView', 'com.whatsapp.biz.catalog.CatalogListActivity', 'com.whatsapp.biz.catalog.CatalogDetailActivity', 'com.whatsapp.biz.catalog.CatalogImageListActivity', 'com.google.android.gms.auth.api.signin.internal.SignInHubActivity', 'com.google.android.gms.common.api.GoogleApiActivity']\n"
     ]
    }
   ],
   "source": [
    "print(a.get_activities())"
   ]
  },
  {
   "cell_type": "markdown",
   "metadata": {},
   "source": [
    "With the same object, we can get the package and app name:"
   ]
  },
  {
   "cell_type": "code",
   "execution_count": 12,
   "metadata": {},
   "outputs": [
    {
     "name": "stdout",
     "output_type": "stream",
     "text": [
      "com.whatsapp\n"
     ]
    },
    {
     "name": "stderr",
     "output_type": "stream",
     "text": [
      "invalid decoded string length\n",
      "invalid decoded string length\n"
     ]
    },
    {
     "name": "stdout",
     "output_type": "stream",
     "text": [
      "WhatsApp\n"
     ]
    }
   ],
   "source": [
    "print(a.get_package())\n",
    "print(a.get_app_name())"
   ]
  },
  {
   "cell_type": "markdown",
   "metadata": {},
   "source": [
    "We can get the numeric version, version string, the minimal, maximal, target and effective SDK version too:"
   ]
  },
  {
   "cell_type": "code",
   "execution_count": 13,
   "metadata": {},
   "outputs": [
    {
     "name": "stdout",
     "output_type": "stream",
     "text": [
      "452877\n",
      "2.19.203\n",
      "15\n",
      "None\n",
      "28\n"
     ]
    }
   ],
   "source": [
    "print(a.get_androidversion_code())\n",
    "print(a.get_androidversion_name())\n",
    "print(a.get_min_sdk_version())\n",
    "print(a.get_max_sdk_version())\n",
    "print(a.get_target_sdk_version())"
   ]
  },
  {
   "cell_type": "markdown",
   "metadata": {},
   "source": [
    "To get the decoded XML for the AndroidManifest.xml (code commented due to its extension):"
   ]
  },
  {
   "cell_type": "code",
   "execution_count": 14,
   "metadata": {},
   "outputs": [],
   "source": [
    "# print(a.get_android_manifest_axml().get_xml())"
   ]
  },
  {
   "cell_type": "markdown",
   "metadata": {},
   "source": [
    "To get all classes from the dex files (code commented due to its extension):"
   ]
  },
  {
   "cell_type": "code",
   "execution_count": 15,
   "metadata": {},
   "outputs": [],
   "source": [
    "# print(dx.get_classes())"
   ]
  },
  {
   "cell_type": "markdown",
   "metadata": {},
   "source": [
    "#### Exercise:\n",
    "Similiar as PE static attributes exercise, create a Python method that extract attributes from a single APK file, returning a list of attributes. After that, extract the attributes from all files located at './datasets/samples/apk/' and create an attributes matrix."
   ]
  },
  {
   "cell_type": "code",
   "execution_count": 16,
   "metadata": {},
   "outputs": [],
   "source": [
    "from glob import glob\n",
    "# data path\n",
    "path = \"./datasets/samples/apk/*.apk\"\n",
    "# get list of files\n",
    "files = glob(path)\n",
    "# method to extract attributes from a single file\n",
    "def extract_attributes(file):\n",
    "    # continue here...\n",
    "    return"
   ]
  },
  {
   "cell_type": "markdown",
   "metadata": {
    "toc-hr-collapsed": false
   },
   "source": [
    "## Dynamic Analysis\n",
    "\n",
    "The dynamic analysis consists in extracting attributes from a software executing it in a controlled environment (virtual machine, simulator, emulator, sandbox, etc). During the execution, it is common to monitor the invoked system calls and their parameters, information flow, execution traces, resources used, etc [Gandotra et al. 2014]. At Windows, there are many strategies used to dynamically analyze a software in the literature [Botacin et al. 2018]. One of the most used is [Cuckoo Sandbox](https://cuckoo.sh/docs/), an open source tool that automatize all the dynamic analysis process of Windows files, presenting all their execution traces (changed ad read files, changed registries, etc), network traffic and even the changes in memory [Oktavianto and Muhardianto 2013]. As this is an extensive topic, we recommend the interested author to read Cuckoo's documentation. In the Android, this theme is too extensive too. We recommend you to read the surveys [Hoffmann et al. 2016, Tam et al. 2017] for more information about the dynamic analysis tools for this platform."
   ]
  },
  {
   "cell_type": "markdown",
   "metadata": {},
   "source": [
    "It is also possible to get dynamic execution reports through VirusTotal (Android and Windows). However, this is part of the private API (which is paid). An example of a Windows software report is shown bellow, an JSON extracted from a modified version (by VirusTotal) of Cuckoo sandbox, containing many informations about the behavior of the sample, such as executed functions (and their parameters) and hosts used in the network traffic (this is a compacted version of the original log, which can be found [here](https://tinyurl.com/y36uxamz)). Another example of dynamic analysis, this time for an Android app, can be found [here](https://tinyurl.com/y25wkow6).\n",
    "\n",
    ">{ \"info\":{ \"started\":\"2013-02-27 14:44:31\", \"duration\":\"15 seconds\", \"version\":\"v0.1\", \"ended\":\"2013-02-27 14:44:46\" },\n",
    ">\n",
    ">   \"network\":{ \"hosts\":[\"0.0.0.0\", \"255.255.255.255\", \"10.0.2.2\", \"10.0.2.15\", \"239.255.255.250\", \"224.0.0.22\", \"65.55.21.14\", \"10.0.2.255\"] },\n",
    ">\n",
    ">   \"behavior\":{  \n",
    ">\n",
    ">      \"processes\":[  \n",
    ">\n",
    ">         {  \"parent_id\":\"1940\",\n",
    ">\n",
    ">            \"process_id\":\"2000\",\n",
    ">\n",
    ">            \"process_name\":\"6c7a2a4dae13df742a60c0fe3c1d319eaeb6f10eb63a10ea3cce234bbdc08c9e\",\n",
    ">\n",
    ">            \"first_seen\":\"20130227134444.940\",\n",
    ">\n",
    ">            \"calls\":[ \n",
    ">\n",
    ">               {  \"category\":\"device\", \"status\":\"SUCCESS\",\n",
    ">\n",
    ">                  \"return\":\"\",\n",
    ">\n",
    ">                  \"timestamp\":\"20130227134444.940\",\n",
    ">\n",
    ">                  \"repeated\":6, \"api\":\"DeviceIoControl\",\n",
    ">\n",
    ">                  \"arguments\":[  \n",
    ">\n",
    ">                     { \"name\":\"hDevice\", \"value\":\"0x00000044\" },\n",
    ">\n",
    ">                     { \"name\":\"dwIoControlCode\", \"value\":\"0x00390008\" },\n",
    ">\n",
    ">                     { \"name\":\"lpInBuffer\", \"value\":\"0x77e46318\" },\n",
    ">\n",
    ">                     { \"name\":\"nInBufferSize\", \"value\":\"0x00000100\" },\n",
    ">\n",
    ">                     { \"name\":\"lpOutBuffer\", \"value\":\"0x0012fbbc\" },\n",
    ">\n",
    ">                     { \"name\":\"nOutBufferSize\", \"value\":\"0x00000100\" },\n",
    ">\n",
    ">                     { \"name\":\"lpBytesReturned\", \"value\":\"0x0012fbb4\" },\n",
    ">\n",
    ">                     { \"name\":\"lpOverlapped\", \"value\":\"0x00000000\" } ]\n",
    ">\n",
    ">               } ] } ],\n",
    ">\n",
    ">      \"summary\":{  \n",
    ">\n",
    ">         \"files\":[ \"C:\\\\6c7a2a4dae13df742a60c0fe3c1d319eaeb6f10eb63a10ea3cce234bbdc08c9e\" ]\n",
    ">\n",
    ">} } }"
   ]
  },
  {
   "cell_type": "markdown",
   "metadata": {},
   "source": [
    "## References\n",
    "\n",
    "[Botacin et al. 2018] Botacin, M., de Geus, P. L., and Grégio, A. (2018). The other guys: automated analysis of marginalized malware. Journal of Computer Virology and Hacking Techniques, 14(1):87–98.\n",
    "\n",
    "[Gandotra et al. 2014] Gandotra, E., Bansal, D., and Sofat, S. (2014). Malware analysis and classification: A survey. Journal of Information Security, 5(2):56–64.\n",
    "\n",
    "[Hoffmann et al. 2016] Hoffmann, J., Rytilahti, T., Maiorca, D., Winandy, M., Giacinto, G., and Holz, T. (2016). Evaluating analysis tools for android apps: Status quo and robustness against obfuscation. pages 139–141.\n",
    "\n",
    "[Oktavianto and Muhardianto 2013] Oktavianto, D. and Muhardianto, I. (2013). Cuckoo Malware Analysis. Packt Publishing.\n",
    "\n",
    "[Saxe and Sanders 2018] Saxe, J. and Sanders, H. (2018). Malware Data Science: Attack Detection and Attribution. No Starch Press, San Francisco, CA, USA.\n",
    "\n",
    "[Tam et al. 2017] Tam, K., Feizollah, A., Anuar, N. B., Salleh, R., and Cavallaro, L. (2017). The evolution of android malware and android analysis techniques. ACM Comput. Surv., 49(4):76:1–76:41.\n",
    "\n",
    "[Yonts 2010] Yonts, J. (2010). Building a Malware Zoo. The SANS Institute"
   ]
  }
 ],
 "metadata": {
  "kernelspec": {
   "display_name": "Python 3",
   "language": "python",
   "name": "python3"
  },
  "language_info": {
   "codemirror_mode": {
    "name": "ipython",
    "version": 3
   },
   "file_extension": ".py",
   "mimetype": "text/x-python",
   "name": "python",
   "nbconvert_exporter": "python",
   "pygments_lexer": "ipython3",
   "version": "3.5.2"
  }
 },
 "nbformat": 4,
 "nbformat_minor": 4
}
